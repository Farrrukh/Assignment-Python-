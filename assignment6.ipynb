{
 "cells": [
  {
   "cell_type": "code",
   "execution_count": 1,
   "metadata": {},
   "outputs": [
    {
     "name": "stdout",
     "output_type": "stream",
     "text": [
      "An “Object” is the key component of Object-oriented programming. An Object may contain data (fields or variables) or code (methods or procedures). The creation of these objects is based on a programmer-defined blue-print also known as a Class.\n",
      "The four basic principles of OOP\n",
      " \n",
      "Inheritance\n",
      "Inheritance is the process of creating new classes, called derived classes, from base classes where an “is-a” relationship exists. The derived class extends from the base class in order to inherit its properties.\n",
      "\n",
      "Polymorphism\n",
      "Polymorphism is the ability of an object to take on many forms. For example, square, rectangle, circle and triangle classes can have the same parent class Shapes, but each class can have its own method named drawShape().\n",
      "\n",
      "Abstraction\n",
      "Abstraction in OOP refers to showing only the essential features of an object to the user and hiding the other details to reduce complexity.\n",
      "\n",
      "Encapsulation\n",
      "Encapsulation in OOP refers to binding the data and the methods to manipulate that data together in a single unit (class). This is normally done to hide the state and representation of an object from outside.\n"
     ]
    }
   ],
   "source": [
    "#Q1\n",
    "print('An “Object” is the key component of Object-oriented programming. An Object may contain data (fields or variables) or code (methods or procedures). The creation of these objects is based on a programmer-defined blue-print also known as a Class.\\nThe four basic principles of OOP\\n ')\n",
    "print('Inheritance')\n",
    "print('Inheritance is the process of creating new classes, called derived classes, from base classes where an “is-a” relationship exists. The derived class extends from the base class in order to inherit its properties.\\n')\n",
    "print('Polymorphism')\n",
    "print('Polymorphism is the ability of an object to take on many forms. For example, square, rectangle, circle and triangle classes can have the same parent class Shapes, but each class can have its own method named drawShape().\\n')\n",
    "print('Abstraction')\n",
    "print('Abstraction in OOP refers to showing only the essential features of an object to the user and hiding the other details to reduce complexity.\\n')\n",
    "print('Encapsulation')\n",
    "print('Encapsulation in OOP refers to binding the data and the methods to manipulate that data together in a single unit (class). This is normally done to hide the state and representation of an object from outside.')"
   ]
  },
  {
   "cell_type": "code",
   "execution_count": 2,
   "metadata": {},
   "outputs": [
    {
     "name": "stdout",
     "output_type": "stream",
     "text": [
      "Benefits of oops include reusability of code,maintainabilty of code, portability, extensibility etc. Oops involve features like encapsulation,data hiding,abstraction,polymorphism,modularity etc\n"
     ]
    }
   ],
   "source": [
    "#Q2\n",
    "print('Benefits of oops include reusability of code,maintainabilty of code, portability, extensibility etc. Oops involve features like encapsulation,data hiding,abstraction,polymorphism,modularity etc')"
   ]
  },
  {
   "cell_type": "code",
   "execution_count": 3,
   "metadata": {},
   "outputs": [
    {
     "name": "stdout",
     "output_type": "stream",
     "text": [
      "Python method is called on an object, unlike a function.  Since we call a method on an object, it can access the data within it. A method may alter an objects state, but Python function usually only operates on it, and then prints something or returns a value\n"
     ]
    }
   ],
   "source": [
    "#Q3\n",
    "print('Python method is called on an object, unlike a function.  Since we call a method on an object, it can access the data within it. A method may alter an objects state, but Python function usually only operates on it, and then prints something or returns a value')"
   ]
  },
  {
   "cell_type": "code",
   "execution_count": 4,
   "metadata": {},
   "outputs": [
    {
     "name": "stdout",
     "output_type": "stream",
     "text": [
      "Classes (OOP) In object-oriented programming, a class is a blueprint for creating objects (a particular data structure), providing initial values for state (member variables or attributes), and implementations of behavior (member functions or methods). The user-defined objects are created using the class keyword.\n",
      "\n",
      "In object-oriented programming (OOP), objects are the things you think about first in designing a program and they are also the units of code that are eventually derived from the process. ... Each object is an instance of a particular class or subclass with the classs own methods or procedures and data variables.\n",
      "\n",
      "In Object-oriented programming(OOP), classes and objects have attributes. Attributes are data stored inside a class or instance and represent the state or quality of the class or instance. In short, attributes store information about the instance.\n",
      "\n",
      "Behavior. A classs behavior determines how an instance of that class operates; for example, how it will \"react\" if asked to do something by another class or object or if its internal state changes. Behavior is the only way objects can do anything to themselves or have anything done to them.\n"
     ]
    }
   ],
   "source": [
    "#Q4\n",
    "print('Classes (OOP) In object-oriented programming, a class is a blueprint for creating objects (a particular data structure), providing initial values for state (member variables or attributes), and implementations of behavior (member functions or methods). The user-defined objects are created using the class keyword.\\n')\n",
    "print('In object-oriented programming (OOP), objects are the things you think about first in designing a program and they are also the units of code that are eventually derived from the process. ... Each object is an instance of a particular class or subclass with the classs own methods or procedures and data variables.\\n')\n",
    "print('In Object-oriented programming(OOP), classes and objects have attributes. Attributes are data stored inside a class or instance and represent the state or quality of the class or instance. In short, attributes store information about the instance.\\n')\n",
    "print('Behavior. A classs behavior determines how an instance of that class operates; for example, how it will \"react\" if asked to do something by another class or object or if its internal state changes. Behavior is the only way objects can do anything to themselves or have anything done to them.')"
   ]
  },
  {
   "cell_type": "code",
   "execution_count": 5,
   "metadata": {},
   "outputs": [
    {
     "name": "stdout",
     "output_type": "stream",
     "text": [
      "Civic has applied the brake\n",
      "The make of car is Honda\n",
      "The model of car is Civic\n",
      "The year of car is 2016\n",
      "The battery of car is 200amp\n",
      "The size of your car battery is 200amp\n",
      "The size of your car battery is 300amp\n",
      "Cultus has applied the brake\n",
      "The make of car is Suzuki\n",
      "The model of car is Cultus\n",
      "The year of car is 2019\n",
      "The battery of car is 200amp\n",
      "The size of your car battery is 200amp\n",
      "The size of your car battery is 400amp\n",
      "The make of car is Toyota\n",
      "The model of car is Fortuner\n",
      "The year of car is 2019\n",
      "Fortuner has applied the brake\n",
      "The battery of car is 200amp\n",
      "The size of your car battery is 200amp\n",
      "The size of your car battery is 1000amp\n"
     ]
    }
   ],
   "source": [
    "#Q5\n",
    "class Car:\n",
    "\n",
    "    def __init__(self, make, model, year):\n",
    "        self.make = make\n",
    "        self.model = model\n",
    "        self.year = year\n",
    "        self.battery = \"200amp\"  # default attribute\n",
    "\n",
    "    def descriptionCar(self):\n",
    "        print(f\"The make of car is {self.make}\")\n",
    "        print(f\"The model of car is {self.model}\")\n",
    "        print(f\"The year of car is {self.year}\")\n",
    "\n",
    "    def move(self):\n",
    "        print(f\"{self.make} is moving with speed\")\n",
    "\n",
    "    def applyingBreak(self):\n",
    "        print(f\"{self.model} has applied the brake\")\n",
    "\n",
    "    def desBattery(self):\n",
    "        print(f\"The battery of car is {self.battery}\")\n",
    "\n",
    "    def setBatterySize(self, newSize):\n",
    "        self.battery = newSize\n",
    "\n",
    "    def getBatterySize(self):\n",
    "        print(f\"The size of your car battery is {self.battery}\")\n",
    "car1 = Car('Honda', 'Civic', 2016)\n",
    "car1.applyingBreak()\n",
    "car1.descriptionCar()\n",
    "car1.desBattery()\n",
    "car1.getBatterySize()\n",
    "car1.setBatterySize(\"300amp\")\n",
    "car1.getBatterySize()\n",
    "car2=Car('Suzuki','Cultus',2019)\n",
    "car2.applyingBreak()\n",
    "car2.descriptionCar()\n",
    "car2.desBattery()\n",
    "car2.getBatterySize()\n",
    "car2.setBatterySize(\"400amp\")\n",
    "car2.getBatterySize()\n",
    "car3=Car('Toyota','Fortuner',2019)\n",
    "car3.descriptionCar()\n",
    "car3.applyingBreak()\n",
    "car3.desBattery()\n",
    "car3.getBatterySize()\n",
    "car3.setBatterySize('1000amp')\n",
    "car3.getBatterySize()"
   ]
  },
  {
   "cell_type": "code",
   "execution_count": null,
   "metadata": {},
   "outputs": [],
   "source": []
  }
 ],
 "metadata": {
  "kernelspec": {
   "display_name": "Python 3",
   "language": "python",
   "name": "python3"
  },
  "language_info": {
   "codemirror_mode": {
    "name": "ipython",
    "version": 3
   },
   "file_extension": ".py",
   "mimetype": "text/x-python",
   "name": "python",
   "nbconvert_exporter": "python",
   "pygments_lexer": "ipython3",
   "version": "3.7.4"
  }
 },
 "nbformat": 4,
 "nbformat_minor": 2
}
