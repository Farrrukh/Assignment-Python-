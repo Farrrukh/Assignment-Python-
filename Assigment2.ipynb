{
 "cells": [
  {
   "cell_type": "code",
   "execution_count": 24,
   "metadata": {},
   "outputs": [
    {
     "name": "stdout",
     "output_type": "stream",
     "text": [
      "\t\t\t\t\t\tMark Sheet\n",
      "Please Enter Math Marks60\n",
      "Please Enter Computer Marks89\n",
      "Please Enter Basic Programming Marks89\n",
      "Please Enter Advanced Programing Marks89\n",
      "Please Enter Data Structure Marks89\n",
      "Total:  416\n",
      "Total Percentage:  83.2\n",
      "Grade is A+:\t  83.2\n"
     ]
    }
   ],
   "source": [
    "#QUESTION1\n",
    "print('\\t\\t\\t\\t\\t\\tMark Sheet')\n",
    "math=int(input('Please Enter Math Marks'))\n",
    "comp=int(input('Please Enter Computer Marks'))\n",
    "bProg=int(input('Please Enter Basic Programming Marks'))\n",
    "aProg=int(input('Please Enter Advanced Programing Marks'))\n",
    "dStruct=int(input('Please Enter Data Structure Marks'))\n",
    "\n",
    "totalSum=math+comp+bProg+aProg+dStruct\n",
    "totalMarks=500\n",
    "totalPercentage=totalSum/totalMarks*100\n",
    "print(\"Total: \",totalSum)\n",
    "print(\"Total Percentage: \",totalPercentage)\n",
    "\n",
    "if(totalPercentage >= 80 and totalPercentage <=100):\n",
    "    print('Grade is A+:\\t ',totalPercentage);\n",
    "elif(totalPercentage >= 70 and totalPercentage <=80):\n",
    "    print('Grade is A:\\t ',totalPercentage);\n",
    "elif(totalPercentage >= 60 and totalPercentage <=70):\n",
    "    print('Grade is B:\\t ',totalPercentage);\n",
    "elif(totalPercentage >= 50 and totalPercentage <=60):\n",
    "    print('Grade is C:\\t ',totalPercentage);\n",
    "elif(totalPercentage >= 40 and totalPercentage <=50):\n",
    "    print('Grade is D:\\t ',totalPercentage);\n",
    "else:\n",
    "    print('Grade is Fail:\\t ',totalPercentage)"
   ]
  },
  {
   "cell_type": "code",
   "execution_count": 28,
   "metadata": {},
   "outputs": [
    {
     "name": "stdout",
     "output_type": "stream",
     "text": [
      "Enter any number: 24\n",
      "Is an even number. 24\n"
     ]
    }
   ],
   "source": [
    "#QUESTION2\n",
    "num = int(input(\"Enter any number: \"))\n",
    "if num%2==0:\n",
    "    print(\"Is an even number.\",num)\n",
    "else:\n",
    "    print(\"Is an odd number.\",num)"
   ]
  },
  {
   "cell_type": "code",
   "execution_count": 30,
   "metadata": {},
   "outputs": [
    {
     "name": "stdout",
     "output_type": "stream",
     "text": [
      "6\n"
     ]
    }
   ],
   "source": [
    "#QUESTION3\n",
    "list1=[1,2,3,4,5,6]\n",
    "lenth=len(list1)\n",
    "print(lenth)"
   ]
  },
  {
   "cell_type": "code",
   "execution_count": 34,
   "metadata": {},
   "outputs": [
    {
     "name": "stdout",
     "output_type": "stream",
     "text": [
      "21\n"
     ]
    }
   ],
   "source": [
    "#QUESTION4\n",
    "list1=[1,2,3,4,5,6]\n",
    "a=0\n",
    "for lis in list1:\n",
    "    a+=lis\n",
    "\n",
    "print(a)"
   ]
  },
  {
   "cell_type": "code",
   "execution_count": 35,
   "metadata": {},
   "outputs": [
    {
     "name": "stdout",
     "output_type": "stream",
     "text": [
      "Largest element is: 89\n"
     ]
    }
   ],
   "source": [
    "#QUESTION5\n",
    "a = [1, 1, 2, 3, 5, 8, 13, 21, 34, 55, 89]\n",
    "b=a.sort()\n",
    "print(\"Largest element is:\", a[-1]) "
   ]
  },
  {
   "cell_type": "code",
   "execution_count": 39,
   "metadata": {},
   "outputs": [
    {
     "name": "stdout",
     "output_type": "stream",
     "text": [
      "1\n",
      "1\n",
      "2\n",
      "3\n"
     ]
    }
   ],
   "source": [
    "#QUESTION6\n",
    "a = [1, 1, 2, 3, 5, 8, 13, 21, 34, 55, 89]\n",
    "for i in a:\n",
    "    if i < 5:\n",
    "\n",
    "        print(i)\n",
    "\n"
   ]
  },
  {
   "cell_type": "code",
   "execution_count": null,
   "metadata": {},
   "outputs": [],
   "source": []
  }
 ],
 "metadata": {
  "kernelspec": {
   "display_name": "Python 3",
   "language": "python",
   "name": "python3"
  },
  "language_info": {
   "codemirror_mode": {
    "name": "ipython",
    "version": 3
   },
   "file_extension": ".py",
   "mimetype": "text/x-python",
   "name": "python",
   "nbconvert_exporter": "python",
   "pygments_lexer": "ipython3",
   "version": "3.7.4"
  }
 },
 "nbformat": 4,
 "nbformat_minor": 2
}
