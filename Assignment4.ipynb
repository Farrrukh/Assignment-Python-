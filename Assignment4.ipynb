{
 "cells": [
  {
   "cell_type": "code",
   "execution_count": 1,
   "metadata": {},
   "outputs": [
    {
     "name": "stdout",
     "output_type": "stream",
     "text": [
      "Store Information about person\t\t\t\n",
      "{'firstName': 'Farrukh', 'LastName': 'khan', 'Age': 24, 'City': 'Karachi'}\n",
      "Enter Your Qualificationinter\n",
      "{'firstName': 'Farrukh', 'LastName': 'khan', 'Age': 24, 'City': 'Karachi', 'Qualification': 'inter'}\n",
      "Update Your QualificationGraduate\n",
      "{'firstName': 'Farrukh', 'LastName': 'khan', 'Age': 24, 'City': 'Karachi', 'Qualification': 'Graduate'}\n",
      "{'firstName': 'Farrukh', 'LastName': 'khan', 'Age': 24, 'City': 'Karachi'}\n"
     ]
    }
   ],
   "source": [
    "#absQ1\n",
    "\n",
    "print('Store Information about person\\t\\t\\t')\n",
    "\n",
    "person={\n",
    "    'firstName':'Farrukh',\n",
    "    'LastName':'khan',\n",
    "    'Age':24,\n",
    "    'City':'Karachi'\n",
    "}\n",
    "print(person)\n",
    "userInputAdd=input('Enter Your Qualification')\n",
    "person['Qualification']=userInputAdd\n",
    "print(person)\n",
    "userInputUpdate=input('Update Your Qualification')\n",
    "person['Qualification']=userInputUpdate\n",
    "print(person)\n",
    "del person['Qualification']\n",
    "print(person)"
   ]
  },
  {
   "cell_type": "code",
   "execution_count": 2,
   "metadata": {},
   "outputs": [
    {
     "name": "stdout",
     "output_type": "stream",
     "text": [
      "Karachi {'Population': '14.91 million', 'Fact': 'Largest city of Pakistan', 'Country': 'Pakistan'}\n",
      "Paris {'Population': '2.141 million', 'Fact': 'city of Love', 'Country': 'French'}\n",
      "Moscow {'Population': '11.92 million', 'Fact': 'Unconquered City', 'Country': 'Russia'}\n"
     ]
    }
   ],
   "source": [
    "#absQ2\n",
    "\n",
    "cities={\n",
    "     \"Karachi\": {\n",
    "        \"Population\": \"14.91 million\",\n",
    "        \"Fact\": \"Largest city of Pakistan\",\n",
    "        \"Country\": \"Pakistan\"\n",
    "    },\n",
    "    \"Paris\": {\n",
    "        \"Population\": \"2.141 million\",\n",
    "        \"Fact\": \"city of Love\",\n",
    "        \"Country\": \"French\"\n",
    "    },\n",
    "    \"Moscow\": {\n",
    "        \"Population\": \"11.92 million\",\n",
    "        \"Fact\": \"Unconquered City\",\n",
    "        \"Country\": \"Russia\"\n",
    "    }\n",
    "}\n",
    "for key,values in cities.items():\n",
    "    print(key,values)"
   ]
  },
  {
   "cell_type": "code",
   "execution_count": 3,
   "metadata": {},
   "outputs": [
    {
     "name": "stdout",
     "output_type": "stream",
     "text": [
      "Tell your Age: 3\n",
      "Your ticket's price is $10\n",
      "Do you want to Continue Press y for Yes & Press any keys for exit: a\n",
      "Program is Terminate\n"
     ]
    }
   ],
   "source": [
    "#absQ3\n",
    "repeat ='y'\n",
    "while repeat == 'y':\n",
    "    age = int(input(\"Tell your Age: \"))\n",
    "    if age < 3:\n",
    "        print(\"Your ticket's price is Free\")\n",
    "    elif age >= 3 and age <= 12:\n",
    "        print(\"Your ticket's price is $10\")\n",
    "    elif age > 12:\n",
    "        print(\"Your ticket's is $15\")\n",
    "    else:\n",
    "        print(\"Invalid Input\")\n",
    "    repeat = input(\"Do you want to Continue Press y for Yes & Press any keys for exit: \")\n",
    "    if repeat != 'y':\n",
    "        print(\"Program is Terminate\")"
   ]
  },
  {
   "cell_type": "code",
   "execution_count": 6,
   "metadata": {},
   "outputs": [
    {
     "name": "stdout",
     "output_type": "stream",
     "text": [
      "Please Enter your favourite book name\n",
      "\tAlice in Wonderland.\n",
      "One of my favourite book is  Alice in Wonderland.\n"
     ]
    }
   ],
   "source": [
    "#absQ4\n",
    "def favourite_Book(title):\n",
    "    print('One of my favourite book is ',title)\n",
    "userInputTitle=input('Please Enter your favourite book name\\n\\t')\n",
    "favourite_Book(userInputTitle)"
   ]
  },
  {
   "cell_type": "code",
   "execution_count": 9,
   "metadata": {},
   "outputs": [
    {
     "name": "stdout",
     "output_type": "stream",
     "text": [
      "Please Enter Guess No 17\n",
      "Computer Guess no is  1\n",
      "Please Enter Guess No 4\n",
      "Computer Guess no is  7\n",
      "Please Enter Guess No 6\n",
      "Computer Guess no is  25\n"
     ]
    }
   ],
   "source": [
    "#absQ5\n",
    "import random as r\n",
    "\n",
    "count=0\n",
    "while count <3:\n",
    "    guessNo=int(input('Please Enter Guess No '))\n",
    "    count+=1\n",
    "    rand= r.randint(1,30)\n",
    "    if guessNo==rand:\n",
    "        print('Yahoo Your Guess no is correct')\n",
    "    if guessNo>3 and guessNo<3:\n",
    "        print('Your Guess no is Incorrect')\n",
    "    print('Computer Guess no is ',rand)"
   ]
  },
  {
   "cell_type": "code",
   "execution_count": null,
   "metadata": {},
   "outputs": [],
   "source": []
  }
 ],
 "metadata": {
  "kernelspec": {
   "display_name": "Python 3",
   "language": "python",
   "name": "python3"
  },
  "language_info": {
   "codemirror_mode": {
    "name": "ipython",
    "version": 3
   },
   "file_extension": ".py",
   "mimetype": "text/x-python",
   "name": "python",
   "nbconvert_exporter": "python",
   "pygments_lexer": "ipython3",
   "version": "3.7.4"
  }
 },
 "nbformat": 4,
 "nbformat_minor": 2
}
