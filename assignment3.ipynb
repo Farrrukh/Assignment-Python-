{
 "cells": [
  {
   "cell_type": "code",
   "execution_count": 2,
   "metadata": {},
   "outputs": [
    {
     "name": "stdout",
     "output_type": "stream",
     "text": [
      "Select operation.\n",
      "1.Add\n",
      "2.Subtract\n",
      "3.Multiply\n",
      "4.Divide\n",
      "5.Power\n",
      "Enter first number: 34\n",
      "Enter second number: 3\n",
      "Enter choice(1/2/3/4): 5\n",
      "Answer  39304.0\n"
     ]
    }
   ],
   "source": [
    "#Question1\n",
    "print(\"Select operation.\")\n",
    "print(\"1.Add\")\n",
    "print(\"2.Subtract\")\n",
    "print(\"3.Multiply\")\n",
    "print(\"4.Divide\")\n",
    "print(\"5.Power\")\n",
    "\n",
    "num1 = float(input(\"Enter first number: \"))\n",
    "num2 = float(input(\"Enter second number: \"))\n",
    "\n",
    "choice = input(\"Enter choice(1/2/3/4): \")\n",
    "\n",
    "if '1' in choice:\n",
    "    num3=num1+num2\n",
    "elif '2' in choice:\n",
    "    num3=num1-num2\n",
    "elif '3' in choice:\n",
    "    num3=num1*num2\n",
    "elif '4' in choice:\n",
    "    num3=num1//num2\n",
    "elif '5' in choice:\n",
    "    num3=num1**num2\n",
    "else:\n",
    "    print(\"Invalid input\")\n",
    "print('Answer ',num3)"
   ]
  },
  {
   "cell_type": "code",
   "execution_count": 12,
   "metadata": {},
   "outputs": [
    {
     "name": "stdout",
     "output_type": "stream",
     "text": [
      "Numeric value in list 5\n",
      "Yes numeric value exsist in list\n"
     ]
    }
   ],
   "source": [
    "#Question2\n",
    "list1=['a','b',1,5,6,8,'d']\n",
    "\n",
    "num1=int(input('Numeric value in list '))\n",
    "if num1 in list1:\n",
    "    print('Yes numeric value exsist in list')\n",
    "else:\n",
    "    print('Numeric value not exsist in list')\n",
    "   "
   ]
  },
  {
   "cell_type": "code",
   "execution_count": 16,
   "metadata": {},
   "outputs": [
    {
     "name": "stdout",
     "output_type": "stream",
     "text": [
      "{'FisrtName': 'Farrukh', 'LastName': 'Khan', 'FatherName': 'Zamir'}\n",
      "{'FisrtName': 'Farrukh', 'LastName': 'Khan', 'FatherName': 'Zamir', 'Age': 24}\n",
      "{'FisrtName': 'Farrukh', 'LastName': 'Khan', 'FatherName': 'Zamir', 'Age': 24, 'Qualification': 'Graduate'}\n"
     ]
    }
   ],
   "source": [
    "#Question3\n",
    "dict1={'FisrtName':'Farrukh','LastName':'Khan','FatherName':'Zamir'}\n",
    "print(dict1)\n",
    "dict1['Age']=24\n",
    "print(dict1)\n",
    "dict1.update({'Qualification':'Graduate'})\n",
    "print(dict1)"
   ]
  },
  {
   "cell_type": "code",
   "execution_count": 19,
   "metadata": {},
   "outputs": [
    {
     "name": "stdout",
     "output_type": "stream",
     "text": [
      "21\n"
     ]
    }
   ],
   "source": [
    "#Question4\n",
    "dict1={'a':1,'b':2,'c':3,'d':4,'e':5,'f':6}\n",
    "\n",
    "sum=int()\n",
    "for val in dict1.values():\n",
    "    sum+=int(val)\n",
    "print(sum)\n",
    "    "
   ]
  },
  {
   "cell_type": "code",
   "execution_count": 21,
   "metadata": {},
   "outputs": [
    {
     "name": "stdout",
     "output_type": "stream",
     "text": [
      "[6, 1, 4, 5]\n"
     ]
    }
   ],
   "source": [
    "#Question5\n",
    "list1=[1,2,4,5,6,6,1,4,5,7,8,9]\n",
    "duplist=[]\n",
    "uniqVal={}\n",
    "\n",
    "for z in list1:\n",
    "    if z not in uniqVal:\n",
    "        uniqVal[z]=1\n",
    "    else:\n",
    "        if uniqVal[z] == 1:\n",
    "            duplist.append(z)\n",
    "        uniqVal[z] +=1\n",
    "print(duplist)\n",
    "    "
   ]
  },
  {
   "cell_type": "code",
   "execution_count": 25,
   "metadata": {},
   "outputs": [
    {
     "name": "stdout",
     "output_type": "stream",
     "text": [
      "Please check if a given key already exists in a dictionary9\n",
      "Key is not exsist in the dictionary \n"
     ]
    }
   ],
   "source": [
    "#Question6\n",
    "dict1={1: 10, 2: 20, 3: 30, 4: 40, 5: 50, 6: 60}\n",
    "\n",
    "inpt=int(input('Please check if a given key already exists in a dictionary'))\n",
    "\n",
    "\n",
    "\n",
    "if inpt in dict1.keys():\n",
    "    print('Key is already exsist in the dictionary ')\n",
    "else:\n",
    "    print('Key is not exsist in the dictionary ')\n"
   ]
  },
  {
   "cell_type": "code",
   "execution_count": null,
   "metadata": {},
   "outputs": [],
   "source": []
  },
  {
   "cell_type": "code",
   "execution_count": null,
   "metadata": {},
   "outputs": [],
   "source": []
  }
 ],
 "metadata": {
  "kernelspec": {
   "display_name": "Python 3",
   "language": "python",
   "name": "python3"
  },
  "language_info": {
   "codemirror_mode": {
    "name": "ipython",
    "version": 3
   },
   "file_extension": ".py",
   "mimetype": "text/x-python",
   "name": "python",
   "nbconvert_exporter": "python",
   "pygments_lexer": "ipython3",
   "version": "3.7.4"
  }
 },
 "nbformat": 4,
 "nbformat_minor": 2
}
